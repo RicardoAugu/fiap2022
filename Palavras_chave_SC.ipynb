{
  "nbformat": 4,
  "nbformat_minor": 0,
  "metadata": {
    "colab": {
      "name": "Palavras chave SC",
      "provenance": [],
      "authorship_tag": "ABX9TyOIdsv9yDut1jpe9pJbKcKJ",
      "include_colab_link": true
    },
    "kernelspec": {
      "name": "python3",
      "display_name": "Python 3"
    },
    "language_info": {
      "name": "python"
    }
  },
  "cells": [
    {
      "cell_type": "markdown",
      "metadata": {
        "id": "view-in-github",
        "colab_type": "text"
      },
      "source": [
        "<a href=\"https://colab.research.google.com/github/RicardoAugu/fiap2022/blob/main/Palavras_chave_SC.ipynb\" target=\"_parent\"><img src=\"https://colab.research.google.com/assets/colab-badge.svg\" alt=\"Open In Colab\"/></a>"
      ]
    },
    {
      "cell_type": "markdown",
      "source": [
        "# Identificação de palavras terroristas\n"
      ],
      "metadata": {
        "id": "a-s4vs_JFD2H"
      }
    },
    {
      "cell_type": "code",
      "source": [
        "import re"
      ],
      "metadata": {
        "id": "ibbep0rW1oGy"
      },
      "execution_count": 1,
      "outputs": []
    },
    {
      "cell_type": "code",
      "source": [
        "# bomba, explosão, granada, nuclear, bazuca, atentado, assassinato, ataque, tiroteio, polícia, bomba caseira, Bin Laden, refém, gangues "
      ],
      "metadata": {
        "id": "4n9ARMItFWtV"
      },
      "execution_count": null,
      "outputs": []
    },
    {
      "cell_type": "code",
      "source": [
        "lista = ['bomba', 'explosão', 'granada', 'nuclear', 'bazuca', 'atentado', 'assassinato', 'ataque', 'tiroteio', 'polícia', 'bomba caseira', 'Bin Laden', 'refém', 'gangues']\n",
        "texto = input()\n",
        "if(texto in lista):\n",
        "  print('palavra proibida')\n",
        "else:\n",
        "  print('palavra permitida')\n"
      ],
      "metadata": {
        "colab": {
          "base_uri": "https://localhost:8080/"
        },
        "id": "55QAkzAqzbts",
        "outputId": "15dfb5ae-24c3-40e8-c239-d13109904e32"
      },
      "execution_count": null,
      "outputs": [
        {
          "name": "stdout",
          "output_type": "stream",
          "text": [
            "bora tacar uma bomba no vizinho?\n"
          ]
        }
      ]
    },
    {
      "cell_type": "code",
      "source": [
        "\n",
        "def getmatchregex(field):\n",
        "  match = re.search('(?i)(bomba)|(explosão)|(granada)|(nuclear)|(bazuca)|(atentado)|(assassinato)|(ataque)|(tiroteio)|(polícia)|(bomba caseira)|(Bin Laden)|(refém)|(gangues)', field.lower())\n",
        "\n",
        "  if match:\n",
        "    print('palavra proibida? sim')\n",
        "  else:\n",
        "    print('palavra permitida? sim')\n",
        "\n",
        "getmatchregex(input())\n",
        "\n"
      ],
      "metadata": {
        "colab": {
          "base_uri": "https://localhost:8080/"
        },
        "id": "X0uhktfw3hdu",
        "outputId": "b2219eb1-9f8f-477a-cd7a-9d3fc6eb294d"
      },
      "execution_count": 15,
      "outputs": [
        {
          "output_type": "stream",
          "name": "stdout",
          "text": [
            "e ae cia bora fuzila uns mano\n",
            "palavra permitida? sim\n"
          ]
        }
      ]
    }
  ]
}