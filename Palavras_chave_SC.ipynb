{
  "nbformat": 4,
  "nbformat_minor": 0,
  "metadata": {
    "colab": {
      "name": "Palavras chave SC",
      "provenance": [],
      "authorship_tag": "ABX9TyM4jrR7BJUpHQOqKfbnpdry",
      "include_colab_link": true
    },
    "kernelspec": {
      "name": "python3",
      "display_name": "Python 3"
    },
    "language_info": {
      "name": "python"
    }
  },
  "cells": [
    {
      "cell_type": "markdown",
      "metadata": {
        "id": "view-in-github",
        "colab_type": "text"
      },
      "source": [
        "<a href=\"https://colab.research.google.com/github/RicardoAugu/fiap2022/blob/main/Palavras_chave_SC.ipynb\" target=\"_parent\"><img src=\"https://colab.research.google.com/assets/colab-badge.svg\" alt=\"Open In Colab\"/></a>"
      ]
    },
    {
      "cell_type": "markdown",
      "source": [
        "# Identificação de palavras terroristas\n"
      ],
      "metadata": {
        "id": "a-s4vs_JFD2H"
      }
    },
    {
      "cell_type": "code",
      "source": [
        "pip install fuzzywuzzy\n"
      ],
      "metadata": {
        "id": "6tr7_nx0jLJB",
        "colab": {
          "base_uri": "https://localhost:8080/"
        },
        "outputId": "1b9e6674-4650-46bb-f14c-643d90aa7fad"
      },
      "execution_count": 2,
      "outputs": [
        {
          "output_type": "stream",
          "name": "stdout",
          "text": [
            "Collecting fuzzywuzzy\n",
            "  Downloading fuzzywuzzy-0.18.0-py2.py3-none-any.whl (18 kB)\n",
            "Installing collected packages: fuzzywuzzy\n",
            "Successfully installed fuzzywuzzy-0.18.0\n"
          ]
        }
      ]
    },
    {
      "cell_type": "code",
      "source": [
        "# bomba, explosão, granada, nuclear, bazuca, atentado, assassinato, ataque, tiroteio, polícia, bomba caseira, Bin Laden, refém, gangues "
      ],
      "metadata": {
        "id": "4n9ARMItFWtV"
      },
      "execution_count": 4,
      "outputs": []
    },
    {
      "cell_type": "code",
      "source": [
        "from fuzzywuzzy import process\n"
      ],
      "metadata": {
        "id": "zwGXCocY-qG_",
        "outputId": "afe322f6-cd34-4b88-8003-b5dc4ff1bd6a",
        "colab": {
          "base_uri": "https://localhost:8080/"
        }
      },
      "execution_count": 9,
      "outputs": [
        {
          "output_type": "stream",
          "name": "stderr",
          "text": [
            "/usr/local/lib/python3.7/dist-packages/fuzzywuzzy/fuzz.py:11: UserWarning: Using slow pure-python SequenceMatcher. Install python-Levenshtein to remove this warning\n",
            "  warnings.warn('Using slow pure-python SequenceMatcher. Install python-Levenshtein to remove this warning')\n"
          ]
        }
      ]
    },
    {
      "cell_type": "code",
      "source": [
        "lista = ['bomba', 'explosão', 'granada', 'nuclear', 'bazuca', 'atentado', 'assassinato', 'ataque', 'tiroteio', 'polícia', 'bomba caseira', 'Bin Laden', 'refém', 'gangues']\n",
        "texto = input()\n",
        "process.extract(texto, lista)\n"
      ],
      "metadata": {
        "id": "55QAkzAqzbts",
        "colab": {
          "base_uri": "https://localhost:8080/"
        },
        "outputId": "e3e799f5-89a9-4945-c681-d642199c9718"
      },
      "execution_count": 13,
      "outputs": [
        {
          "name": "stdout",
          "output_type": "stream",
          "text": [
            "gustavo\n"
          ]
        },
        {
          "output_type": "execute_result",
          "data": {
            "text/plain": [
              "[('gangues', 43),\n",
              " ('atentado', 40),\n",
              " ('assassinato', 39),\n",
              " ('bazuca', 31),\n",
              " ('ataque', 31)]"
            ]
          },
          "metadata": {},
          "execution_count": 13
        }
      ]
    },
    {
      "cell_type": "code",
      "source": [
        "\n",
        "def getmatch(field):\n",
        "  match_list = lista\n",
        "  search_list = process.extract(field, match_list)\n",
        "  result = []\n",
        "\n",
        "  for text in search_list:\n",
        "   if text[1] > 54:\n",
        "      result.append(text)\n",
        "  if len(result) == 0:\n",
        "          return 'Produto Proibido? Não'\n",
        "  return 'Produto Proibido? Sim'\n",
        "getmatch(input())\n",
        "\n"
      ],
      "metadata": {
        "id": "X0uhktfw3hdu",
        "colab": {
          "base_uri": "https://localhost:8080/",
          "height": 52
        },
        "outputId": "81ae5b13-1576-4ee0-de79-0423e216a22f"
      },
      "execution_count": 16,
      "outputs": [
        {
          "name": "stdout",
          "output_type": "stream",
          "text": [
            "B0MB4\n"
          ]
        },
        {
          "output_type": "execute_result",
          "data": {
            "text/plain": [
              "'Produto Proibido? Sim'"
            ],
            "application/vnd.google.colaboratory.intrinsic+json": {
              "type": "string"
            }
          },
          "metadata": {},
          "execution_count": 16
        }
      ]
    }
  ]
}